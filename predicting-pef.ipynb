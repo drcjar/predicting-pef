{
 "cells": [
  {
   "cell_type": "code",
   "execution_count": 1,
   "metadata": {},
   "outputs": [],
   "source": [
    "def get_age(prompt):\n",
    "    \"\"\"\n",
    "    get age and validate input\n",
    "    must be an integer 8-80\n",
    "    \"\"\"\n",
    "    try:\n",
    "        value = int(input(prompt))\n",
    "    except ValueError:\n",
    "        print(\"Sorry, I didn't understand that.\")\n",
    "        return get_age(prompt)\n",
    "\n",
    "    if value < 8:\n",
    "        print(\"Sorry, you must be at least 8 years old for us to predict your peak expiratory flow rate.\")\n",
    "        return get_age(prompt)\n",
    "    elif value > 80:\n",
    "        print(\"Sorry, you must be less than 80 years old for us to predict your peak expiratory flow rate.\")\n",
    "        return get_age(prompt)\n",
    "    else:\n",
    "        return value"
   ]
  },
  {
   "cell_type": "code",
   "execution_count": 2,
   "metadata": {},
   "outputs": [],
   "source": [
    "def get_height(prompt):\n",
    "    \"\"\"\n",
    "    get height and validate input\n",
    "    must arbitarily be an integer 0-1000\n",
    "    \"\"\"\n",
    "    try:\n",
    "        value = int(input(prompt))\n",
    "    except ValueError:\n",
    "        print(\"Sorry, I didn't understand that.\")\n",
    "        return get_height(prompt)\n",
    "\n",
    "    if value < 0:\n",
    "        print(\"Sorry, you must have a positive height in cm for us to predict your peak expiratory flow rate.\")\n",
    "        return get_height(prompt)\n",
    "    elif value > 1000:\n",
    "        print(\"Sorry, you must be less than 1000cm tall for us to predict your peak expiratory flow rate.\")\n",
    "        return get_height(prompt)\n",
    "    else:\n",
    "        return value"
   ]
  },
  {
   "cell_type": "code",
   "execution_count": 3,
   "metadata": {},
   "outputs": [],
   "source": [
    "def get_sex(prompt):\n",
    "    \"\"\"\n",
    "    get sex and validate input\n",
    "    must be integer 1 or 2\n",
    "    \"\"\"\n",
    "    try:\n",
    "        value = int(input(prompt))\n",
    "    except ValueError:\n",
    "        print(\"Sorry, I didn't understand that.\")\n",
    "        return get_sex(prompt)\n",
    "\n",
    "    if value == 1:\n",
    "        return value\n",
    "    elif value == 2:\n",
    "        return value\n",
    "    else:\n",
    "        print(\"Sorry, I didn't understand that.\")\n",
    "        return get_sex(prompt)"
   ]
  },
  {
   "cell_type": "code",
   "execution_count": 4,
   "metadata": {},
   "outputs": [],
   "source": [
    "def predicted_pef(age, height, sex):\n",
    "    \"\"\"\n",
    "    reference range based on caucasians aged 8-80 who were asymptomatic \n",
    "    lifelong nonsmoking participants of NHANES III.\n",
    "    \n",
    "    lung function parameter = b0 + b1*age + b2*age^2 + b3*height^2\n",
    "    beta values from table 4 and 5[1] \n",
    "    PEF is peak expiratory flow.\n",
    "    LLN is lower limit of normal.\n",
    "    \n",
    "    1. Hankinson JL, Odencrantz JR, Fedan KB. Spirometric reference values from a sample of the general U.S. population. Am J Respir Crit Care Med 1999; 159:179.\n",
    "    https://pubmed.ncbi.nlm.nih.gov/9872837/\n",
    "    \"\"\"\n",
    "    # white male less than 20 years of age\n",
    "    if (sex == 1) & (age < 20):\n",
    "        b0 = -0.5962\n",
    "        b1 = -0.12357\n",
    "        b2 = 0.013135\n",
    "        b3 = 0.00024962\n",
    "        b4 = 0.00017635\n",
    "        \n",
    "    # white male 20 or older    \n",
    "    elif (sex == 1) & (age >= 20):\n",
    "        b0 = 1.0523\n",
    "        b1 = 0.08272\n",
    "        b2 = -0.001301\n",
    "        b3 = 0.00024962\n",
    "        b4 = 0.00017635\n",
    "\n",
    "    # white female less than 18 years of age\n",
    "    elif (sex == 2) & (age < 18):\n",
    "        b0 = -3.6181\n",
    "        b1 = 0.60644\n",
    "        b2 = -0.016846\n",
    "        b3 = 0.00018623\n",
    "        b4 = 0.00012148\n",
    "    \n",
    "    # white female 18 years or older\n",
    "    elif (sex == 2) & (age >= 18):\n",
    "        b0 = 0.9267\n",
    "        b1 = 0.06929\n",
    "        b2 = -0.001031\n",
    "        b3 = 0.00018623\n",
    "        b4 = 0.00012148\n",
    "\n",
    "    # equations to calculate PEFR and PEFR_LLN\n",
    "    PEF = 60 * (b0 + (b1*age) + (b2*(age**2)) + (b3*(height**2)))\n",
    "    PEF_LLN = 60 * (b0 + (b1*age) + (b2 *(age**2)) + (b4*(height**2)))\n",
    "       \n",
    "    return PEF, PEF_LLN"
   ]
  },
  {
   "cell_type": "code",
   "execution_count": 5,
   "metadata": {},
   "outputs": [
    {
     "name": "stdout",
     "output_type": "stream",
     "text": [
      "Please enter age in years: 37\n",
      "Please enter height in cm: 168\n",
      "Please enter your sex 1=male, 2=female: 1\n",
      "Predicted peak expiratory flow: 563 L/min (LLN: 439 L/min)\n"
     ]
    }
   ],
   "source": [
    "# test case\n",
    "# for 37 year old male, 168cm. Prediction from MDcalc and uptodate predicted peakflow calculator\n",
    "# PEF = 563 \n",
    "# LLN = 439\n",
    "\n",
    "age = get_age('Please enter age in years: ')\n",
    "height = get_height('Please enter height in cm: ')\n",
    "sex = get_sex('Please enter your sex 1=male, 2=female: ')\n",
    "PEF, PEF_LLN = predicted_pef(age,height,sex)\n",
    "print(\"Predicted peak expiratory flow: {} L/min (LLN: {} L/min)\".format(round(PEF), round(PEF_LLN)))"
   ]
  }
 ],
 "metadata": {
  "kernelspec": {
   "display_name": "Python 3",
   "language": "python",
   "name": "python3"
  },
  "language_info": {
   "codemirror_mode": {
    "name": "ipython",
    "version": 3
   },
   "file_extension": ".py",
   "mimetype": "text/x-python",
   "name": "python",
   "nbconvert_exporter": "python",
   "pygments_lexer": "ipython3",
   "version": "3.8.5"
  }
 },
 "nbformat": 4,
 "nbformat_minor": 4
}
